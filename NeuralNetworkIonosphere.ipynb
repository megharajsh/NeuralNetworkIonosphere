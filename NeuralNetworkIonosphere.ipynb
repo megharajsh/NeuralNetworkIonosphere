{
 "cells": [
  {
   "cell_type": "code",
   "execution_count": 7,
   "outputs": [],
   "source": [
    "import requests\n",
    "import os\n",
    "import pandas as pd\n",
    "import numpy as np\n"
   ],
   "metadata": {
    "collapsed": false,
    "pycharm": {
     "name": "#%%\n",
     "is_executing": false
    }
   }
  },
  {
   "cell_type": "markdown",
   "source": [
    "\n",
    "Downloading The Data"
   ],
   "metadata": {
    "collapsed": false
   }
  },
  {
   "cell_type": "code",
   "execution_count": 8,
   "outputs": [],
   "source": [
    "files_in_folder = os.listdir()\n",
    "if not 'ionosphere.txt' in files_in_folder:\n",
    "  url = ('https://archive.ics.uci.edu/ml/machine-learning-databases' +\n",
    "         '/ionosphere/ionosphere.data')\n",
    "  response = requests.get(url)\n",
    "  raw_data = response.text\n",
    "  with open('ionosphere.txt', 'w') as f:\n",
    "    f.write(raw_data)\n",
    "else:\n",
    "  with open('ionosphere.txt', 'r') as f:\n",
    "    raw_data = f.read()"
   ],
   "metadata": {
    "collapsed": false,
    "pycharm": {
     "name": "#%%\n",
     "is_executing": false
    }
   }
  },
  {
   "cell_type": "markdown",
   "source": [
    "\n",
    "Processing data into shape"
   ],
   "metadata": {
    "collapsed": false
   }
  },
  {
   "cell_type": "code",
   "execution_count": 9,
   "outputs": [],
   "source": [
    "rows = raw_data.strip('\\n').split('\\n')\n",
    "rows = [row.split(',') for row in rows]\n",
    "df = pd.DataFrame(rows)\n",
    "df.rename(columns={df.columns.values[-1]: 'target'}, inplace=True)\n",
    "df.to_csv('ionosphere_processed.csv')"
   ],
   "metadata": {
    "collapsed": false,
    "pycharm": {
     "name": "#%%\n",
     "is_executing": false
    }
   }
  },
  {
   "cell_type": "markdown",
   "source": [
    "Read CSV"
   ],
   "metadata": {
    "collapsed": false
   }
  },
  {
   "cell_type": "code",
   "execution_count": 10,
   "outputs": [],
   "source": [
    "data = pd.read_csv('ionosphere_processed.csv', index_col=0)\n",
    "n_rows, n_cols = data.shape"
   ],
   "metadata": {
    "collapsed": false,
    "pycharm": {
     "name": "#%%\n",
     "is_executing": false
    }
   }
  },
  {
   "cell_type": "markdown",
   "source": [
    "Pandas DataFrames come with a useful .describe() method to explore the variables assumed to be in the columns.\n",
    "\n"
   ],
   "metadata": {
    "collapsed": false
   }
  },
  {
   "cell_type": "code",
   "execution_count": 11,
   "outputs": [
    {
     "data": {
      "text/plain": "                0      1           2           3           4           5  \\\ncount  351.000000  351.0  351.000000  351.000000  351.000000  351.000000   \nmean     0.891738    0.0    0.641342    0.044372    0.601068    0.115889   \nstd      0.311155    0.0    0.497708    0.441435    0.519862    0.460810   \nmin      0.000000    0.0   -1.000000   -1.000000   -1.000000   -1.000000   \n25%      1.000000    0.0    0.472135   -0.064735    0.412660   -0.024795   \n50%      1.000000    0.0    0.871110    0.016310    0.809200    0.022800   \n75%      1.000000    0.0    1.000000    0.194185    1.000000    0.334655   \nmax      1.000000    0.0    1.000000    1.000000    1.000000    1.000000   \n\n                6  \ncount  351.000000  \nmean     0.550095  \nstd      0.492654  \nmin     -1.000000  \n25%      0.211310  \n50%      0.728730  \n75%      0.969240  \nmax      1.000000  ",
      "text/html": "<div>\n<style scoped>\n    .dataframe tbody tr th:only-of-type {\n        vertical-align: middle;\n    }\n\n    .dataframe tbody tr th {\n        vertical-align: top;\n    }\n\n    .dataframe thead th {\n        text-align: right;\n    }\n</style>\n<table border=\"1\" class=\"dataframe\">\n  <thead>\n    <tr style=\"text-align: right;\">\n      <th></th>\n      <th>0</th>\n      <th>1</th>\n      <th>2</th>\n      <th>3</th>\n      <th>4</th>\n      <th>5</th>\n      <th>6</th>\n    </tr>\n  </thead>\n  <tbody>\n    <tr>\n      <th>count</th>\n      <td>351.000000</td>\n      <td>351.0</td>\n      <td>351.000000</td>\n      <td>351.000000</td>\n      <td>351.000000</td>\n      <td>351.000000</td>\n      <td>351.000000</td>\n    </tr>\n    <tr>\n      <th>mean</th>\n      <td>0.891738</td>\n      <td>0.0</td>\n      <td>0.641342</td>\n      <td>0.044372</td>\n      <td>0.601068</td>\n      <td>0.115889</td>\n      <td>0.550095</td>\n    </tr>\n    <tr>\n      <th>std</th>\n      <td>0.311155</td>\n      <td>0.0</td>\n      <td>0.497708</td>\n      <td>0.441435</td>\n      <td>0.519862</td>\n      <td>0.460810</td>\n      <td>0.492654</td>\n    </tr>\n    <tr>\n      <th>min</th>\n      <td>0.000000</td>\n      <td>0.0</td>\n      <td>-1.000000</td>\n      <td>-1.000000</td>\n      <td>-1.000000</td>\n      <td>-1.000000</td>\n      <td>-1.000000</td>\n    </tr>\n    <tr>\n      <th>25%</th>\n      <td>1.000000</td>\n      <td>0.0</td>\n      <td>0.472135</td>\n      <td>-0.064735</td>\n      <td>0.412660</td>\n      <td>-0.024795</td>\n      <td>0.211310</td>\n    </tr>\n    <tr>\n      <th>50%</th>\n      <td>1.000000</td>\n      <td>0.0</td>\n      <td>0.871110</td>\n      <td>0.016310</td>\n      <td>0.809200</td>\n      <td>0.022800</td>\n      <td>0.728730</td>\n    </tr>\n    <tr>\n      <th>75%</th>\n      <td>1.000000</td>\n      <td>0.0</td>\n      <td>1.000000</td>\n      <td>0.194185</td>\n      <td>1.000000</td>\n      <td>0.334655</td>\n      <td>0.969240</td>\n    </tr>\n    <tr>\n      <th>max</th>\n      <td>1.000000</td>\n      <td>0.0</td>\n      <td>1.000000</td>\n      <td>1.000000</td>\n      <td>1.000000</td>\n      <td>1.000000</td>\n      <td>1.000000</td>\n    </tr>\n  </tbody>\n</table>\n</div>"
     },
     "metadata": {},
     "output_type": "execute_result",
     "execution_count": 11
    }
   ],
   "source": [
    "\n",
    "data_descript = data.describe()\n",
    "data_descript.iloc[:, :7]   \n"
   ],
   "metadata": {
    "collapsed": false,
    "pycharm": {
     "name": "#%%\n",
     "is_executing": false
    }
   }
  }
 ],
 "metadata": {
  "kernelspec": {
   "display_name": "Python 3",
   "language": "python",
   "name": "python3"
  },
  "language_info": {
   "codemirror_mode": {
    "name": "ipython",
    "version": 2
   },
   "file_extension": ".py",
   "mimetype": "text/x-python",
   "name": "python",
   "nbconvert_exporter": "python",
   "pygments_lexer": "ipython2",
   "version": "2.7.6"
  },
  "pycharm": {
   "stem_cell": {
    "cell_type": "raw",
    "source": [],
    "metadata": {
     "collapsed": false
    }
   }
  }
 },
 "nbformat": 4,
 "nbformat_minor": 0
}